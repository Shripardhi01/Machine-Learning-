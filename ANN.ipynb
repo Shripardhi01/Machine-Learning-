{
 "cells": [
  {
   "cell_type": "code",
   "execution_count": 1,
   "metadata": {},
   "outputs": [
    {
     "name": "stdout",
     "output_type": "stream",
     "text": [
      "Training cycle 34914 And the error is 0.0009999564222953057\n"
     ]
    }
   ],
   "source": [
    "import numpy as np\n",
    "d=np.array([[0],[1],[1],[0]])\n",
    "z=np.array([[0,0], [0,1], [1,0], [1,1]])\n",
    "n=len(z)\n",
    "zd=len(z[0])\n",
    "l=1                                           #lambda\n",
    "c=0.1                                         #learning rate\n",
    "hl=2                                         #no of hidden layer\n",
    "ol=1                                        # no of output layer\n",
    "def f(v,z,l):\n",
    "    net=np.matmul(v,z)\n",
    "    return (1 - np.exp(-net*l)) / (1 +np.exp(-net*l))\n",
    "def fd(o):\n",
    "    return (1-o**2)    \n",
    "v=np.random.random((hl,zd))         #random input weight\n",
    "w=np.random.random((ol,hl+1))      #random output weight\n",
    "Emax=0.001\n",
    "tc=0\n",
    "E=1\n",
    "while E>Emax:\n",
    "    tc=tc+1\n",
    "    E=0\n",
    "    for j in range(0,n):\n",
    "        y=[]\n",
    "        y=[f(v[i,:],z[j,:],l) for i in range(0,hl)]\n",
    "        y.append(-1)\n",
    "        o=[]\n",
    "        o=[f(w[i,:],y,l) for i in range(0,ol)]\n",
    "        E=E+0.5*np.sum([(d[j,i]-o[i])**2 for i in range(0,ol)])\n",
    "        del_o=[(d[j,i]-o[i])*fd(o[i]) for i in range(0,ol)]\n",
    "        del_y=[(fd(y[i])*np.matmul(w[:,i],del_o)) for i in range(0,hl)]\n",
    "        w=w+c*np.multiply(np.vstack(del_o),[y])\n",
    "        v=v+c*np.multiply(np.vstack(del_y),[z[j,:]])\n",
    "    #print(\"Tarining Cycle: \",tc,\"Error: \",E)\n",
    "print(\"Training cycle \"+str(tc), \"And the error is \"+str(E))"
   ]
  },
  {
   "cell_type": "code",
   "execution_count": 2,
   "metadata": {},
   "outputs": [
    {
     "name": "stdout",
     "output_type": "stream",
     "text": [
      "Enter the no. of node in hidden layer : 10\n",
      "Enter the no. of node in output layer : 10\n",
      "Training cycle 6765 And the error is 0.0009737522012488236\n"
     ]
    }
   ],
   "source": [
    "import numpy as np\n",
    "d=np.array([\n",
    "    [1,0,0,0,0,0,0,0,0,0],[0,1,0,0,0,0,0,0,0,0],[0,0,1,0,0,0,0,0,0,0],[0,0,0,1,0,0,0,0,0,0],\n",
    "    [0,0,0,0,1,0,0,0,0,0],[0,0,0,0,0,1,0,0,0,0],[0,0,0,0,0,0,1,0,0,0],[0,0,0,0,0,0,0,1,0,0],\n",
    "    [0,0,0,0,0,0,0,0,1,0],[0,0,0,0,0,0,0,0,0,1]\n",
    "])\n",
    "z=np.array([[0, 1, 1, 1, 0, 1, 0, 0, 0, 1, 1, 0, 0, 0, 1, 1, 0, 0, 0, 1, 0, 1, 1, 1, 0, -1],\n",
    "            [0, 0, 1, 0, 0, 0, 1, 1, 0, 0, 0, 0, 1, 0, 0, 1, 0, 1, 0, 0, 0, 1, 1, 1, 0, -1],\n",
    "            [0, 1, 1, 1, 0, 1, 0, 0, 0, 1, 0, 0, 0, 1, 0, 0, 0, 1, 0, 0, 1, 1, 1, 1, 1, -1],\n",
    "            [0, 0, 1, 1, 0, 0, 0, 1, 0, 0, 1, 0, 0, 0, 0, 1, 0, 0, 0, 0, 0, 0, 1, 0, 0, -1],\n",
    "            [0, 0, 0, 0, 1, 0, 0, 0, 0, 1, 1, 0, 0, 0, 1, 0, 1, 0, 0, 1, 1, 1, 1, 0, 0, -1],\n",
    "            [0, 1, 1, 1, 1, 0, 0, 1, 0, 0, 0, 0, 0, 1, 1, 1, 0, 0, 0, 0, 0, 0, 1, 0, 0, -1],\n",
    "            [0, 0, 1, 1, 0, 0, 0, 1, 0, 0, 0, 0, 0, 1, 1, 1, 0, 0, 0, 1, 0, 0, 1, 0, 0, -1],\n",
    "            [0, 1, 1, 1, 1, 0, 0, 0, 0, 0, 1, 0, 0, 0, 0, 1, 0, 0, 0, 0, 0, 1, 0, 0, 0, -1],\n",
    "            [0, 0, 1, 1, 0, 0, 0, 1, 0, 0, 1, 0, 0, 0, 1, 1, 0, 0, 0, 1, 0, 0, 1, 0, 0, -1],\n",
    "            [0, 0, 1, 1, 0, 0, 0, 1, 0, 0, 1, 0, 0, 1, 0, 0, 1, 0, 0, 0, 1, 1, 1, 0, 0, -1]])\n",
    "n=len(z)\n",
    "zd=len(z[0])\n",
    "l=1                                           #lambda\n",
    "c=0.1                                         #learning rate\n",
    "hln=int(input(\"Enter the no. of node in hidden layer : \"))  # no of hidden layer\n",
    "oln=int(input(\"Enter the no. of node in output layer : \"))  # no of output layer\n",
    "def f(v,z,l):\n",
    "    net=np.matmul(v,z)\n",
    "    return (1 - np.exp(-net*l)) / (1 +np.exp(-net*l))\n",
    "def fd(o):\n",
    "    return (1-o**2)    \n",
    "v=np.random.random_sample((hln,zd))         #random input weight\n",
    "w=np.random.random_sample((oln,hln+1))      #random output weight\n",
    "Emax=0.001\n",
    "tc=0\n",
    "E=1\n",
    "while E>Emax:\n",
    "    tc=tc+1\n",
    "    E=0\n",
    "    for j in range(0,n):\n",
    "        y=[]\n",
    "        y=[f(v[i,:],z[j,:],l) for i in range(0,hln)]\n",
    "        y.append(-1)\n",
    "        o=[]\n",
    "        o=[f(w[i,:],y,l) for i in range(0,oln)]\n",
    "        E=E+0.5*np.sum([(d[j,i]-o[i])**2 for i in range(0,oln)])\n",
    "        del_o=[(d[j,i]-o[i])*fd(o[i]) for i in range(0,oln)]\n",
    "        del_y=[(fd(y[i])*np.matmul(w[:,i],del_o)) for i in range(0,hln)]\n",
    "        w=w+c*np.multiply(np.vstack(del_o),[y])\n",
    "        v=v+c*np.multiply(np.vstack(del_y),[z[j,:]])\n",
    "    #print(\"Tarining Cycle: \",tc,\"Error: \",E)\n",
    "print(\"Training cycle \"+str(tc), \"And the error is \"+str(E))"
   ]
  },
  {
   "cell_type": "code",
   "execution_count": null,
   "metadata": {},
   "outputs": [],
   "source": []
  }
 ],
 "metadata": {
  "kernelspec": {
   "display_name": "Python 3",
   "language": "python",
   "name": "python3"
  },
  "language_info": {
   "codemirror_mode": {
    "name": "ipython",
    "version": 3
   },
   "file_extension": ".py",
   "mimetype": "text/x-python",
   "name": "python",
   "nbconvert_exporter": "python",
   "pygments_lexer": "ipython3",
   "version": "3.6.4"
  }
 },
 "nbformat": 4,
 "nbformat_minor": 2
}
